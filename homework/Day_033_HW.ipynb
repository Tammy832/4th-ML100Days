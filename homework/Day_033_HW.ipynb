{
  "nbformat": 4,
  "nbformat_minor": 0,
  "metadata": {
    "kernelspec": {
      "display_name": "Python 3",
      "language": "python",
      "name": "python3"
    },
    "language_info": {
      "codemirror_mode": {
        "name": "ipython",
        "version": 3
      },
      "file_extension": ".py",
      "mimetype": "text/x-python",
      "name": "python",
      "nbconvert_exporter": "python",
      "pygments_lexer": "ipython3",
      "version": "3.6.2"
    },
    "colab": {
      "name": "Day_033_HW.ipynb",
      "provenance": []
    }
  },
  "cells": [
    {
      "cell_type": "markdown",
      "metadata": {
        "id": "G4bRmjKm8MAn",
        "colab_type": "text"
      },
      "source": [
        "## 練習時間"
      ]
    },
    {
      "cell_type": "markdown",
      "metadata": {
        "id": "BCXC6lw68MAq",
        "colab_type": "text"
      },
      "source": [
        "請觀看李宏毅教授以神奇寶貝進化 CP 值預測的範例，解說何謂機器學習與過擬合。並回答以下問題"
      ]
    },
    {
      "cell_type": "markdown",
      "metadata": {
        "id": "g7qPnd2Q8MAt",
        "colab_type": "text"
      },
      "source": [
        "[youtube](https://www.youtube.com/watch?v=fegAeph9UaA)"
      ]
    },
    {
      "cell_type": "markdown",
      "metadata": {
        "id": "UusHxL1L8MAy",
        "colab_type": "text"
      },
      "source": [
        "### 1. 模型的泛化能力 (generalization) 是指什麼？ \n",
        "說明了模型對看不見的數據的行為\n",
        "### 2. 分類問題與回歸問題分別可用的目標函數有哪些？\n",
        "分類問題：交叉熵\n",
        "回歸問題：均方誤差(MSE)和平均絕對值誤差(MAE)\n",
        "\n",
        "參考資料1：[機器/深度學習: 基礎介紹-損失函數(loss function)](https://medium.com/@chih.sheng.huang821/%E6%A9%9F%E5%99%A8-%E6%B7%B1%E5%BA%A6%E5%AD%B8%E7%BF%92-%E5%9F%BA%E7%A4%8E%E4%BB%8B%E7%B4%B9-%E6%90%8D%E5%A4%B1%E5%87%BD%E6%95%B8-loss-function-2dcac5ebb6cb)\n",
        "\n",
        "參考資料2：[Regularization：減少 Overfitting ，提高模型泛化能力](https://ithelp.ithome.com.tw/articles/10203371)"
      ]
    }
  ]
}