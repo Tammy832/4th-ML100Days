{
  "nbformat": 4,
  "nbformat_minor": 0,
  "metadata": {
    "kernelspec": {
      "name": "python3",
      "display_name": "Python 3"
    },
    "language_info": {
      "codemirror_mode": {
        "name": "ipython",
        "version": 3
      },
      "file_extension": ".py",
      "mimetype": "text/x-python",
      "name": "python",
      "nbconvert_exporter": "python",
      "pygments_lexer": "ipython3",
      "version": "3.6.1"
    },
    "colab": {
      "name": "Day_027_HW.ipynb",
      "provenance": []
    },
    "accelerator": "GPU"
  },
  "cells": [
    {
      "cell_type": "markdown",
      "metadata": {
        "collapsed": true,
        "id": "QBlfgF_iAcYk",
        "colab_type": "text"
      },
      "source": [
        "# 範例 : 計程車費率預測\n",
        "https://www.kaggle.com/c/new-york-city-taxi-fare-prediction"
      ]
    },
    {
      "cell_type": "markdown",
      "metadata": {
        "id": "auLcuReYAcYs",
        "colab_type": "text"
      },
      "source": [
        "# [作業目標]\n",
        "- 試著模仿範例寫法, 使用程車費率預測競賽練習時間欄位處理"
      ]
    },
    {
      "cell_type": "markdown",
      "metadata": {
        "id": "RgrCvBZHAcYx",
        "colab_type": "text"
      },
      "source": [
        "# [作業重點]\n",
        "- 新增星期幾(day of week)與第幾周(week of year)這兩項特徵, 觀察有什麼影響 (In[4], Out[4], In[5], Out[5])\n",
        "- 新增加上年週期與周周期特徵 , 觀察有什麼影響 (In[8], Out[8], In[9], Out[9]) "
      ]
    },
    {
      "cell_type": "code",
      "metadata": {
        "id": "iOV3VFk-CUq5",
        "colab_type": "code",
        "colab": {
          "base_uri": "https://localhost:8080/",
          "height": 139
        },
        "outputId": "ba587892-3a51-4f17-d985-200481b03342"
      },
      "source": [
        "from google.colab import drive\n",
        "drive.mount('/content/gdrive')\n",
        "%cd 'gdrive/My Drive'"
      ],
      "execution_count": 1,
      "outputs": [
        {
          "output_type": "stream",
          "text": [
            "Go to this URL in a browser: https://accounts.google.com/o/oauth2/auth?client_id=947318989803-6bn6qk8qdgf4n4g3pfee6491hc0brc4i.apps.googleusercontent.com&redirect_uri=urn%3aietf%3awg%3aoauth%3a2.0%3aoob&response_type=code&scope=email%20https%3a%2f%2fwww.googleapis.com%2fauth%2fdocs.test%20https%3a%2f%2fwww.googleapis.com%2fauth%2fdrive%20https%3a%2f%2fwww.googleapis.com%2fauth%2fdrive.photos.readonly%20https%3a%2f%2fwww.googleapis.com%2fauth%2fpeopleapi.readonly\n",
            "\n",
            "Enter your authorization code:\n",
            "··········\n",
            "Mounted at /content/gdrive\n",
            "/content/gdrive/My Drive\n"
          ],
          "name": "stdout"
        }
      ]
    },
    {
      "cell_type": "code",
      "metadata": {
        "id": "aExbw3T6AcY0",
        "colab_type": "code",
        "colab": {
          "base_uri": "https://localhost:8080/",
          "height": 204
        },
        "outputId": "759c76e3-cba6-4d6d-da48-645920332149"
      },
      "source": [
        "# 做完特徵工程前的所有準備\n",
        "import pandas as pd\n",
        "import numpy as np\n",
        "import datetime\n",
        "from sklearn.preprocessing import MinMaxScaler\n",
        "from sklearn.model_selection import cross_val_score\n",
        "from sklearn.linear_model import LinearRegression\n",
        "from sklearn.ensemble import GradientBoostingRegressor\n",
        "\n",
        "df = pd.read_csv('taxi_data1.csv')\n",
        "\n",
        "train_Y = df['fare_amount']\n",
        "df = df.drop(['fare_amount'] , axis=1)\n",
        "df.head()"
      ],
      "execution_count": 2,
      "outputs": [
        {
          "output_type": "execute_result",
          "data": {
            "text/html": [
              "<div>\n",
              "<style scoped>\n",
              "    .dataframe tbody tr th:only-of-type {\n",
              "        vertical-align: middle;\n",
              "    }\n",
              "\n",
              "    .dataframe tbody tr th {\n",
              "        vertical-align: top;\n",
              "    }\n",
              "\n",
              "    .dataframe thead th {\n",
              "        text-align: right;\n",
              "    }\n",
              "</style>\n",
              "<table border=\"1\" class=\"dataframe\">\n",
              "  <thead>\n",
              "    <tr style=\"text-align: right;\">\n",
              "      <th></th>\n",
              "      <th>pickup_datetime</th>\n",
              "      <th>pickup_longitude</th>\n",
              "      <th>pickup_latitude</th>\n",
              "      <th>dropoff_longitude</th>\n",
              "      <th>dropoff_latitude</th>\n",
              "      <th>passenger_count</th>\n",
              "    </tr>\n",
              "  </thead>\n",
              "  <tbody>\n",
              "    <tr>\n",
              "      <th>0</th>\n",
              "      <td>2011-10-21 23:54:10 UTC</td>\n",
              "      <td>-73.990580</td>\n",
              "      <td>40.761071</td>\n",
              "      <td>-73.981128</td>\n",
              "      <td>40.758634</td>\n",
              "      <td>2</td>\n",
              "    </tr>\n",
              "    <tr>\n",
              "      <th>1</th>\n",
              "      <td>2015-02-03 10:42:03 UTC</td>\n",
              "      <td>-73.988403</td>\n",
              "      <td>40.723431</td>\n",
              "      <td>-73.989647</td>\n",
              "      <td>40.741695</td>\n",
              "      <td>1</td>\n",
              "    </tr>\n",
              "    <tr>\n",
              "      <th>2</th>\n",
              "      <td>2014-03-16 18:58:58 UTC</td>\n",
              "      <td>-74.015785</td>\n",
              "      <td>40.715110</td>\n",
              "      <td>-74.012029</td>\n",
              "      <td>40.707888</td>\n",
              "      <td>2</td>\n",
              "    </tr>\n",
              "    <tr>\n",
              "      <th>3</th>\n",
              "      <td>2009-06-13 16:10:54 UTC</td>\n",
              "      <td>-73.977322</td>\n",
              "      <td>40.787275</td>\n",
              "      <td>-73.958030</td>\n",
              "      <td>40.778838</td>\n",
              "      <td>3</td>\n",
              "    </tr>\n",
              "    <tr>\n",
              "      <th>4</th>\n",
              "      <td>2014-06-12 03:25:56 UTC</td>\n",
              "      <td>-73.989683</td>\n",
              "      <td>40.729717</td>\n",
              "      <td>-73.982490</td>\n",
              "      <td>40.761887</td>\n",
              "      <td>3</td>\n",
              "    </tr>\n",
              "  </tbody>\n",
              "</table>\n",
              "</div>"
            ],
            "text/plain": [
              "           pickup_datetime  pickup_longitude  ...  dropoff_latitude  passenger_count\n",
              "0  2011-10-21 23:54:10 UTC        -73.990580  ...         40.758634                2\n",
              "1  2015-02-03 10:42:03 UTC        -73.988403  ...         40.741695                1\n",
              "2  2014-03-16 18:58:58 UTC        -74.015785  ...         40.707888                2\n",
              "3  2009-06-13 16:10:54 UTC        -73.977322  ...         40.778838                3\n",
              "4  2014-06-12 03:25:56 UTC        -73.989683  ...         40.761887                3\n",
              "\n",
              "[5 rows x 6 columns]"
            ]
          },
          "metadata": {
            "tags": []
          },
          "execution_count": 2
        }
      ]
    },
    {
      "cell_type": "code",
      "metadata": {
        "id": "At-g14p4AcZA",
        "colab_type": "code",
        "colab": {
          "base_uri": "https://localhost:8080/",
          "height": 309
        },
        "outputId": "e1503762-84ae-4625-ad5c-f8c18e6c9964"
      },
      "source": [
        "# 時間特徵分解方式:使用datetime\n",
        "df['pickup_datetime'] = df['pickup_datetime'].apply(lambda x: datetime.datetime.strptime(x, '%Y-%m-%d %H:%M:%S UTC'))\n",
        "df['pickup_year'] = df['pickup_datetime'].apply(lambda x: datetime.datetime.strftime(x, '%Y')).astype('int64')\n",
        "df['pickup_month'] = df['pickup_datetime'].apply(lambda x: datetime.datetime.strftime(x, '%m')).astype('int64')\n",
        "df['pickup_day'] = df['pickup_datetime'].apply(lambda x: datetime.datetime.strftime(x, '%d')).astype('int64')\n",
        "df['pickup_hour'] = df['pickup_datetime'].apply(lambda x: datetime.datetime.strftime(x, '%H')).astype('int64')\n",
        "df['pickup_minute'] = df['pickup_datetime'].apply(lambda x: datetime.datetime.strftime(x, '%M')).astype('int64')\n",
        "df['pickup_second'] = df['pickup_datetime'].apply(lambda x: datetime.datetime.strftime(x, '%S')).astype('int64')\n",
        "df.head()"
      ],
      "execution_count": 3,
      "outputs": [
        {
          "output_type": "execute_result",
          "data": {
            "text/html": [
              "<div>\n",
              "<style scoped>\n",
              "    .dataframe tbody tr th:only-of-type {\n",
              "        vertical-align: middle;\n",
              "    }\n",
              "\n",
              "    .dataframe tbody tr th {\n",
              "        vertical-align: top;\n",
              "    }\n",
              "\n",
              "    .dataframe thead th {\n",
              "        text-align: right;\n",
              "    }\n",
              "</style>\n",
              "<table border=\"1\" class=\"dataframe\">\n",
              "  <thead>\n",
              "    <tr style=\"text-align: right;\">\n",
              "      <th></th>\n",
              "      <th>pickup_datetime</th>\n",
              "      <th>pickup_longitude</th>\n",
              "      <th>pickup_latitude</th>\n",
              "      <th>dropoff_longitude</th>\n",
              "      <th>dropoff_latitude</th>\n",
              "      <th>passenger_count</th>\n",
              "      <th>pickup_year</th>\n",
              "      <th>pickup_month</th>\n",
              "      <th>pickup_day</th>\n",
              "      <th>pickup_hour</th>\n",
              "      <th>pickup_minute</th>\n",
              "      <th>pickup_second</th>\n",
              "    </tr>\n",
              "  </thead>\n",
              "  <tbody>\n",
              "    <tr>\n",
              "      <th>0</th>\n",
              "      <td>2011-10-21 23:54:10</td>\n",
              "      <td>-73.990580</td>\n",
              "      <td>40.761071</td>\n",
              "      <td>-73.981128</td>\n",
              "      <td>40.758634</td>\n",
              "      <td>2</td>\n",
              "      <td>2011</td>\n",
              "      <td>10</td>\n",
              "      <td>21</td>\n",
              "      <td>23</td>\n",
              "      <td>54</td>\n",
              "      <td>10</td>\n",
              "    </tr>\n",
              "    <tr>\n",
              "      <th>1</th>\n",
              "      <td>2015-02-03 10:42:03</td>\n",
              "      <td>-73.988403</td>\n",
              "      <td>40.723431</td>\n",
              "      <td>-73.989647</td>\n",
              "      <td>40.741695</td>\n",
              "      <td>1</td>\n",
              "      <td>2015</td>\n",
              "      <td>2</td>\n",
              "      <td>3</td>\n",
              "      <td>10</td>\n",
              "      <td>42</td>\n",
              "      <td>3</td>\n",
              "    </tr>\n",
              "    <tr>\n",
              "      <th>2</th>\n",
              "      <td>2014-03-16 18:58:58</td>\n",
              "      <td>-74.015785</td>\n",
              "      <td>40.715110</td>\n",
              "      <td>-74.012029</td>\n",
              "      <td>40.707888</td>\n",
              "      <td>2</td>\n",
              "      <td>2014</td>\n",
              "      <td>3</td>\n",
              "      <td>16</td>\n",
              "      <td>18</td>\n",
              "      <td>58</td>\n",
              "      <td>58</td>\n",
              "    </tr>\n",
              "    <tr>\n",
              "      <th>3</th>\n",
              "      <td>2009-06-13 16:10:54</td>\n",
              "      <td>-73.977322</td>\n",
              "      <td>40.787275</td>\n",
              "      <td>-73.958030</td>\n",
              "      <td>40.778838</td>\n",
              "      <td>3</td>\n",
              "      <td>2009</td>\n",
              "      <td>6</td>\n",
              "      <td>13</td>\n",
              "      <td>16</td>\n",
              "      <td>10</td>\n",
              "      <td>54</td>\n",
              "    </tr>\n",
              "    <tr>\n",
              "      <th>4</th>\n",
              "      <td>2014-06-12 03:25:56</td>\n",
              "      <td>-73.989683</td>\n",
              "      <td>40.729717</td>\n",
              "      <td>-73.982490</td>\n",
              "      <td>40.761887</td>\n",
              "      <td>3</td>\n",
              "      <td>2014</td>\n",
              "      <td>6</td>\n",
              "      <td>12</td>\n",
              "      <td>3</td>\n",
              "      <td>25</td>\n",
              "      <td>56</td>\n",
              "    </tr>\n",
              "  </tbody>\n",
              "</table>\n",
              "</div>"
            ],
            "text/plain": [
              "      pickup_datetime  pickup_longitude  ...  pickup_minute  pickup_second\n",
              "0 2011-10-21 23:54:10        -73.990580  ...             54             10\n",
              "1 2015-02-03 10:42:03        -73.988403  ...             42              3\n",
              "2 2014-03-16 18:58:58        -74.015785  ...             58             58\n",
              "3 2009-06-13 16:10:54        -73.977322  ...             10             54\n",
              "4 2014-06-12 03:25:56        -73.989683  ...             25             56\n",
              "\n",
              "[5 rows x 12 columns]"
            ]
          },
          "metadata": {
            "tags": []
          },
          "execution_count": 3
        }
      ]
    },
    {
      "cell_type": "code",
      "metadata": {
        "id": "dK7ElsRZAcZM",
        "colab_type": "code",
        "colab": {
          "base_uri": "https://localhost:8080/",
          "height": 51
        },
        "outputId": "1e258cbf-2b2c-4ec7-fe32-a32dc087c86d"
      },
      "source": [
        "# 將結果使用線性迴歸 / 梯度提升樹分別看結果\n",
        "df_temp = df.drop(['pickup_datetime'] , axis=1)\n",
        "scaler = MinMaxScaler()\n",
        "train_X = scaler.fit_transform(df_temp)\n",
        "Linear = LinearRegression()\n",
        "print(f'Linear Reg Score : {cross_val_score(Linear, train_X, train_Y, cv=5).mean()}')\n",
        "GDBT = GradientBoostingRegressor()\n",
        "print(f'Gradient Boosting Reg Score : {cross_val_score(GDBT, train_X, train_Y, cv=5).mean()}')"
      ],
      "execution_count": 4,
      "outputs": [
        {
          "output_type": "stream",
          "text": [
            "Linear Reg Score : 0.026876871475639042\n",
            "Gradient Boosting Reg Score : 0.711108809664981\n"
          ],
          "name": "stdout"
        }
      ]
    },
    {
      "cell_type": "markdown",
      "metadata": {
        "collapsed": true,
        "id": "WHRYXDJpAcZT",
        "colab_type": "text"
      },
      "source": [
        "# 作業1\n",
        "* 對照範例，試著加入星期幾 (day of week) 與第幾周 (week of year) 這兩項特徵，  \n",
        "看看結果會比原本只有時間特徵分解的結果更好或更差?"
      ]
    },
    {
      "cell_type": "code",
      "metadata": {
        "id": "f8ZmscDkAcZX",
        "colab_type": "code",
        "colab": {
          "base_uri": "https://localhost:8080/",
          "height": 309
        },
        "outputId": "0d1214da-2891-4b9d-a0f6-8837bcb0f1d2"
      },
      "source": [
        "# 加入星期幾與第幾周兩個特徵\n",
        "# reference: https://docs.python.org/3/library/datetime.html#datetime.date.isoweekday\n",
        "\"\"\"\n",
        "Your Code Here\n",
        "\"\"\"\n",
        "df['day_of_week'] = pd.to_datetime(df['pickup_datetime']).apply(lambda x: x.date().isoweekday())\n",
        "df['week_of_year'] = pd.to_datetime(df['pickup_datetime']).apply(lambda x: x.date().isocalendar()[1])\n",
        "\n",
        "df.head()"
      ],
      "execution_count": 7,
      "outputs": [
        {
          "output_type": "execute_result",
          "data": {
            "text/html": [
              "<div>\n",
              "<style scoped>\n",
              "    .dataframe tbody tr th:only-of-type {\n",
              "        vertical-align: middle;\n",
              "    }\n",
              "\n",
              "    .dataframe tbody tr th {\n",
              "        vertical-align: top;\n",
              "    }\n",
              "\n",
              "    .dataframe thead th {\n",
              "        text-align: right;\n",
              "    }\n",
              "</style>\n",
              "<table border=\"1\" class=\"dataframe\">\n",
              "  <thead>\n",
              "    <tr style=\"text-align: right;\">\n",
              "      <th></th>\n",
              "      <th>pickup_datetime</th>\n",
              "      <th>pickup_longitude</th>\n",
              "      <th>pickup_latitude</th>\n",
              "      <th>dropoff_longitude</th>\n",
              "      <th>dropoff_latitude</th>\n",
              "      <th>passenger_count</th>\n",
              "      <th>pickup_year</th>\n",
              "      <th>pickup_month</th>\n",
              "      <th>pickup_day</th>\n",
              "      <th>pickup_hour</th>\n",
              "      <th>pickup_minute</th>\n",
              "      <th>pickup_second</th>\n",
              "      <th>day_of_week</th>\n",
              "      <th>week_of_year</th>\n",
              "    </tr>\n",
              "  </thead>\n",
              "  <tbody>\n",
              "    <tr>\n",
              "      <th>0</th>\n",
              "      <td>2011-10-21 23:54:10</td>\n",
              "      <td>-73.990580</td>\n",
              "      <td>40.761071</td>\n",
              "      <td>-73.981128</td>\n",
              "      <td>40.758634</td>\n",
              "      <td>2</td>\n",
              "      <td>2011</td>\n",
              "      <td>10</td>\n",
              "      <td>21</td>\n",
              "      <td>23</td>\n",
              "      <td>54</td>\n",
              "      <td>10</td>\n",
              "      <td>5</td>\n",
              "      <td>42</td>\n",
              "    </tr>\n",
              "    <tr>\n",
              "      <th>1</th>\n",
              "      <td>2015-02-03 10:42:03</td>\n",
              "      <td>-73.988403</td>\n",
              "      <td>40.723431</td>\n",
              "      <td>-73.989647</td>\n",
              "      <td>40.741695</td>\n",
              "      <td>1</td>\n",
              "      <td>2015</td>\n",
              "      <td>2</td>\n",
              "      <td>3</td>\n",
              "      <td>10</td>\n",
              "      <td>42</td>\n",
              "      <td>3</td>\n",
              "      <td>2</td>\n",
              "      <td>6</td>\n",
              "    </tr>\n",
              "    <tr>\n",
              "      <th>2</th>\n",
              "      <td>2014-03-16 18:58:58</td>\n",
              "      <td>-74.015785</td>\n",
              "      <td>40.715110</td>\n",
              "      <td>-74.012029</td>\n",
              "      <td>40.707888</td>\n",
              "      <td>2</td>\n",
              "      <td>2014</td>\n",
              "      <td>3</td>\n",
              "      <td>16</td>\n",
              "      <td>18</td>\n",
              "      <td>58</td>\n",
              "      <td>58</td>\n",
              "      <td>7</td>\n",
              "      <td>11</td>\n",
              "    </tr>\n",
              "    <tr>\n",
              "      <th>3</th>\n",
              "      <td>2009-06-13 16:10:54</td>\n",
              "      <td>-73.977322</td>\n",
              "      <td>40.787275</td>\n",
              "      <td>-73.958030</td>\n",
              "      <td>40.778838</td>\n",
              "      <td>3</td>\n",
              "      <td>2009</td>\n",
              "      <td>6</td>\n",
              "      <td>13</td>\n",
              "      <td>16</td>\n",
              "      <td>10</td>\n",
              "      <td>54</td>\n",
              "      <td>6</td>\n",
              "      <td>24</td>\n",
              "    </tr>\n",
              "    <tr>\n",
              "      <th>4</th>\n",
              "      <td>2014-06-12 03:25:56</td>\n",
              "      <td>-73.989683</td>\n",
              "      <td>40.729717</td>\n",
              "      <td>-73.982490</td>\n",
              "      <td>40.761887</td>\n",
              "      <td>3</td>\n",
              "      <td>2014</td>\n",
              "      <td>6</td>\n",
              "      <td>12</td>\n",
              "      <td>3</td>\n",
              "      <td>25</td>\n",
              "      <td>56</td>\n",
              "      <td>4</td>\n",
              "      <td>24</td>\n",
              "    </tr>\n",
              "  </tbody>\n",
              "</table>\n",
              "</div>"
            ],
            "text/plain": [
              "      pickup_datetime  pickup_longitude  ...  day_of_week  week_of_year\n",
              "0 2011-10-21 23:54:10        -73.990580  ...            5            42\n",
              "1 2015-02-03 10:42:03        -73.988403  ...            2             6\n",
              "2 2014-03-16 18:58:58        -74.015785  ...            7            11\n",
              "3 2009-06-13 16:10:54        -73.977322  ...            6            24\n",
              "4 2014-06-12 03:25:56        -73.989683  ...            4            24\n",
              "\n",
              "[5 rows x 14 columns]"
            ]
          },
          "metadata": {
            "tags": []
          },
          "execution_count": 7
        }
      ]
    },
    {
      "cell_type": "code",
      "metadata": {
        "id": "XmYH7ca8AcZj",
        "colab_type": "code",
        "colab": {
          "base_uri": "https://localhost:8080/",
          "height": 51
        },
        "outputId": "a2cb3954-1423-4186-f89c-92ce6854c228"
      },
      "source": [
        "# 將結果使用線性迴歸 / 梯度提升樹分別看結果\n",
        "df_temp = df.drop(['pickup_datetime'] , axis=1)\n",
        "train_X = scaler.fit_transform(df_temp)\n",
        "print(f'Linear Reg Score : {cross_val_score(Linear, train_X, train_Y, cv=5).mean()}')\n",
        "print(f'Gradient Boosting Reg Score : {cross_val_score(GDBT, train_X, train_Y, cv=5).mean()}')"
      ],
      "execution_count": 9,
      "outputs": [
        {
          "output_type": "stream",
          "text": [
            "Linear Reg Score : 0.026481023863714405\n",
            "Gradient Boosting Reg Score : 0.7099800620400807\n"
          ],
          "name": "stdout"
        }
      ]
    },
    {
      "cell_type": "code",
      "metadata": {
        "id": "lJk-kBGrAcZs",
        "colab_type": "code",
        "colab": {
          "base_uri": "https://localhost:8080/",
          "height": 309
        },
        "outputId": "86918ad8-3dee-4ff2-be06-f14bf9438df6"
      },
      "source": [
        "# 加上\"日週期\"特徵 (參考講義\"週期循環特徵\")\n",
        "import math\n",
        "df['day_cycle'] = df['pickup_hour']/12 + df['pickup_minute']/720 + df['pickup_second']/43200\n",
        "df['day_cycle'] = df['day_cycle'].map(lambda x:math.sin(x*math.pi))\n",
        "df.head()"
      ],
      "execution_count": 10,
      "outputs": [
        {
          "output_type": "execute_result",
          "data": {
            "text/html": [
              "<div>\n",
              "<style scoped>\n",
              "    .dataframe tbody tr th:only-of-type {\n",
              "        vertical-align: middle;\n",
              "    }\n",
              "\n",
              "    .dataframe tbody tr th {\n",
              "        vertical-align: top;\n",
              "    }\n",
              "\n",
              "    .dataframe thead th {\n",
              "        text-align: right;\n",
              "    }\n",
              "</style>\n",
              "<table border=\"1\" class=\"dataframe\">\n",
              "  <thead>\n",
              "    <tr style=\"text-align: right;\">\n",
              "      <th></th>\n",
              "      <th>pickup_datetime</th>\n",
              "      <th>pickup_longitude</th>\n",
              "      <th>pickup_latitude</th>\n",
              "      <th>dropoff_longitude</th>\n",
              "      <th>dropoff_latitude</th>\n",
              "      <th>passenger_count</th>\n",
              "      <th>pickup_year</th>\n",
              "      <th>pickup_month</th>\n",
              "      <th>pickup_day</th>\n",
              "      <th>pickup_hour</th>\n",
              "      <th>pickup_minute</th>\n",
              "      <th>pickup_second</th>\n",
              "      <th>day_of_week</th>\n",
              "      <th>week_of_year</th>\n",
              "      <th>day_cycle</th>\n",
              "    </tr>\n",
              "  </thead>\n",
              "  <tbody>\n",
              "    <tr>\n",
              "      <th>0</th>\n",
              "      <td>2011-10-21 23:54:10</td>\n",
              "      <td>-73.990580</td>\n",
              "      <td>40.761071</td>\n",
              "      <td>-73.981128</td>\n",
              "      <td>40.758634</td>\n",
              "      <td>2</td>\n",
              "      <td>2011</td>\n",
              "      <td>10</td>\n",
              "      <td>21</td>\n",
              "      <td>23</td>\n",
              "      <td>54</td>\n",
              "      <td>10</td>\n",
              "      <td>5</td>\n",
              "      <td>42</td>\n",
              "      <td>-0.025450</td>\n",
              "    </tr>\n",
              "    <tr>\n",
              "      <th>1</th>\n",
              "      <td>2015-02-03 10:42:03</td>\n",
              "      <td>-73.988403</td>\n",
              "      <td>40.723431</td>\n",
              "      <td>-73.989647</td>\n",
              "      <td>40.741695</td>\n",
              "      <td>1</td>\n",
              "      <td>2015</td>\n",
              "      <td>2</td>\n",
              "      <td>3</td>\n",
              "      <td>10</td>\n",
              "      <td>42</td>\n",
              "      <td>3</td>\n",
              "      <td>2</td>\n",
              "      <td>6</td>\n",
              "      <td>0.333601</td>\n",
              "    </tr>\n",
              "    <tr>\n",
              "      <th>2</th>\n",
              "      <td>2014-03-16 18:58:58</td>\n",
              "      <td>-74.015785</td>\n",
              "      <td>40.715110</td>\n",
              "      <td>-74.012029</td>\n",
              "      <td>40.707888</td>\n",
              "      <td>2</td>\n",
              "      <td>2014</td>\n",
              "      <td>3</td>\n",
              "      <td>16</td>\n",
              "      <td>18</td>\n",
              "      <td>58</td>\n",
              "      <td>58</td>\n",
              "      <td>7</td>\n",
              "      <td>11</td>\n",
              "      <td>-0.967083</td>\n",
              "    </tr>\n",
              "    <tr>\n",
              "      <th>3</th>\n",
              "      <td>2009-06-13 16:10:54</td>\n",
              "      <td>-73.977322</td>\n",
              "      <td>40.787275</td>\n",
              "      <td>-73.958030</td>\n",
              "      <td>40.778838</td>\n",
              "      <td>3</td>\n",
              "      <td>2009</td>\n",
              "      <td>6</td>\n",
              "      <td>13</td>\n",
              "      <td>16</td>\n",
              "      <td>10</td>\n",
              "      <td>54</td>\n",
              "      <td>6</td>\n",
              "      <td>24</td>\n",
              "      <td>-0.888817</td>\n",
              "    </tr>\n",
              "    <tr>\n",
              "      <th>4</th>\n",
              "      <td>2014-06-12 03:25:56</td>\n",
              "      <td>-73.989683</td>\n",
              "      <td>40.729717</td>\n",
              "      <td>-73.982490</td>\n",
              "      <td>40.761887</td>\n",
              "      <td>3</td>\n",
              "      <td>2014</td>\n",
              "      <td>6</td>\n",
              "      <td>12</td>\n",
              "      <td>3</td>\n",
              "      <td>25</td>\n",
              "      <td>56</td>\n",
              "      <td>4</td>\n",
              "      <td>24</td>\n",
              "      <td>0.782427</td>\n",
              "    </tr>\n",
              "  </tbody>\n",
              "</table>\n",
              "</div>"
            ],
            "text/plain": [
              "      pickup_datetime  pickup_longitude  ...  week_of_year  day_cycle\n",
              "0 2011-10-21 23:54:10        -73.990580  ...            42  -0.025450\n",
              "1 2015-02-03 10:42:03        -73.988403  ...             6   0.333601\n",
              "2 2014-03-16 18:58:58        -74.015785  ...            11  -0.967083\n",
              "3 2009-06-13 16:10:54        -73.977322  ...            24  -0.888817\n",
              "4 2014-06-12 03:25:56        -73.989683  ...            24   0.782427\n",
              "\n",
              "[5 rows x 15 columns]"
            ]
          },
          "metadata": {
            "tags": []
          },
          "execution_count": 10
        }
      ]
    },
    {
      "cell_type": "code",
      "metadata": {
        "id": "2tORYJycAcZz",
        "colab_type": "code",
        "colab": {
          "base_uri": "https://localhost:8080/",
          "height": 51
        },
        "outputId": "b67f259a-36a3-4497-a302-8c60cc964ff7"
      },
      "source": [
        "# 將結果使用線性迴歸 / 梯度提升樹分別看結果\n",
        "df_temp = df.drop(['pickup_datetime'] , axis=1)\n",
        "train_X = scaler.fit_transform(df_temp)\n",
        "print(f'Linear Reg Score : {cross_val_score(Linear, train_X, train_Y, cv=5).mean()}')\n",
        "print(f'Gradient Boosting Reg Score : {cross_val_score(GDBT, train_X, train_Y, cv=5).mean()}')"
      ],
      "execution_count": 11,
      "outputs": [
        {
          "output_type": "stream",
          "text": [
            "Linear Reg Score : 0.026080352293791666\n",
            "Gradient Boosting Reg Score : 0.7157915178411297\n"
          ],
          "name": "stdout"
        }
      ]
    },
    {
      "cell_type": "markdown",
      "metadata": {
        "collapsed": true,
        "id": "ejYCCNBpAcZ6",
        "colab_type": "text"
      },
      "source": [
        "# 作業2\n",
        "* 對照範例的日週期效果，試著參考投影片完成年週期與周週期的特徵 (也可以用你自己想到的方式)，  \n",
        "看看結果會比範例中的結果更好或更差?"
      ]
    },
    {
      "cell_type": "code",
      "metadata": {
        "id": "Eadn7yJ8AcZ7",
        "colab_type": "code",
        "colab": {
          "base_uri": "https://localhost:8080/",
          "height": 309
        },
        "outputId": "dd516ef9-c21f-408c-d5b3-daf4add0f73a"
      },
      "source": [
        "# 加上\"年週期\"與\"周週期\"特徵\n",
        "#  年週期:cos((⽉月/6 + ⽇日/180 )π)\n",
        "#  周週期:sin((星期幾/3.5 + ⼩小時/84 )π)\n",
        "\"\"\"\n",
        "Your Code Here\n",
        "\"\"\"\n",
        "df['year_cycle'] = df['pickup_month']/6 + df['pickup_day']/180\n",
        "df['year_cycle'] = df['year_cycle'].map(lambda x:math.cos(x*math.pi))\n",
        "\n",
        "df['week_cycle'] = df['day_of_week']/3.5 + df['pickup_hour']/180\n",
        "df['week_cycle'] = df['week_cycle'].map(lambda x:math.cos(x*math.pi))\n",
        "df.head()"
      ],
      "execution_count": 12,
      "outputs": [
        {
          "output_type": "execute_result",
          "data": {
            "text/html": [
              "<div>\n",
              "<style scoped>\n",
              "    .dataframe tbody tr th:only-of-type {\n",
              "        vertical-align: middle;\n",
              "    }\n",
              "\n",
              "    .dataframe tbody tr th {\n",
              "        vertical-align: top;\n",
              "    }\n",
              "\n",
              "    .dataframe thead th {\n",
              "        text-align: right;\n",
              "    }\n",
              "</style>\n",
              "<table border=\"1\" class=\"dataframe\">\n",
              "  <thead>\n",
              "    <tr style=\"text-align: right;\">\n",
              "      <th></th>\n",
              "      <th>pickup_datetime</th>\n",
              "      <th>pickup_longitude</th>\n",
              "      <th>pickup_latitude</th>\n",
              "      <th>dropoff_longitude</th>\n",
              "      <th>dropoff_latitude</th>\n",
              "      <th>passenger_count</th>\n",
              "      <th>pickup_year</th>\n",
              "      <th>pickup_month</th>\n",
              "      <th>pickup_day</th>\n",
              "      <th>pickup_hour</th>\n",
              "      <th>pickup_minute</th>\n",
              "      <th>pickup_second</th>\n",
              "      <th>day_of_week</th>\n",
              "      <th>week_of_year</th>\n",
              "      <th>day_cycle</th>\n",
              "      <th>year_cycle</th>\n",
              "      <th>week_cycle</th>\n",
              "    </tr>\n",
              "  </thead>\n",
              "  <tbody>\n",
              "    <tr>\n",
              "      <th>0</th>\n",
              "      <td>2011-10-21 23:54:10</td>\n",
              "      <td>-73.990580</td>\n",
              "      <td>40.761071</td>\n",
              "      <td>-73.981128</td>\n",
              "      <td>40.758634</td>\n",
              "      <td>2</td>\n",
              "      <td>2011</td>\n",
              "      <td>10</td>\n",
              "      <td>21</td>\n",
              "      <td>23</td>\n",
              "      <td>54</td>\n",
              "      <td>10</td>\n",
              "      <td>5</td>\n",
              "      <td>42</td>\n",
              "      <td>-0.025450</td>\n",
              "      <td>0.777146</td>\n",
              "      <td>0.176103</td>\n",
              "    </tr>\n",
              "    <tr>\n",
              "      <th>1</th>\n",
              "      <td>2015-02-03 10:42:03</td>\n",
              "      <td>-73.988403</td>\n",
              "      <td>40.723431</td>\n",
              "      <td>-73.989647</td>\n",
              "      <td>40.741695</td>\n",
              "      <td>1</td>\n",
              "      <td>2015</td>\n",
              "      <td>2</td>\n",
              "      <td>3</td>\n",
              "      <td>10</td>\n",
              "      <td>42</td>\n",
              "      <td>3</td>\n",
              "      <td>2</td>\n",
              "      <td>6</td>\n",
              "      <td>0.333601</td>\n",
              "      <td>0.453990</td>\n",
              "      <td>-0.388435</td>\n",
              "    </tr>\n",
              "    <tr>\n",
              "      <th>2</th>\n",
              "      <td>2014-03-16 18:58:58</td>\n",
              "      <td>-74.015785</td>\n",
              "      <td>40.715110</td>\n",
              "      <td>-74.012029</td>\n",
              "      <td>40.707888</td>\n",
              "      <td>2</td>\n",
              "      <td>2014</td>\n",
              "      <td>3</td>\n",
              "      <td>16</td>\n",
              "      <td>18</td>\n",
              "      <td>58</td>\n",
              "      <td>58</td>\n",
              "      <td>7</td>\n",
              "      <td>11</td>\n",
              "      <td>-0.967083</td>\n",
              "      <td>-0.275637</td>\n",
              "      <td>0.951057</td>\n",
              "    </tr>\n",
              "    <tr>\n",
              "      <th>3</th>\n",
              "      <td>2009-06-13 16:10:54</td>\n",
              "      <td>-73.977322</td>\n",
              "      <td>40.787275</td>\n",
              "      <td>-73.958030</td>\n",
              "      <td>40.778838</td>\n",
              "      <td>3</td>\n",
              "      <td>2009</td>\n",
              "      <td>6</td>\n",
              "      <td>13</td>\n",
              "      <td>16</td>\n",
              "      <td>10</td>\n",
              "      <td>54</td>\n",
              "      <td>6</td>\n",
              "      <td>24</td>\n",
              "      <td>-0.888817</td>\n",
              "      <td>-0.974370</td>\n",
              "      <td>0.814839</td>\n",
              "    </tr>\n",
              "    <tr>\n",
              "      <th>4</th>\n",
              "      <td>2014-06-12 03:25:56</td>\n",
              "      <td>-73.989683</td>\n",
              "      <td>40.729717</td>\n",
              "      <td>-73.982490</td>\n",
              "      <td>40.761887</td>\n",
              "      <td>3</td>\n",
              "      <td>2014</td>\n",
              "      <td>6</td>\n",
              "      <td>12</td>\n",
              "      <td>3</td>\n",
              "      <td>25</td>\n",
              "      <td>56</td>\n",
              "      <td>4</td>\n",
              "      <td>24</td>\n",
              "      <td>0.782427</td>\n",
              "      <td>-0.978148</td>\n",
              "      <td>-0.877026</td>\n",
              "    </tr>\n",
              "  </tbody>\n",
              "</table>\n",
              "</div>"
            ],
            "text/plain": [
              "      pickup_datetime  pickup_longitude  ...  year_cycle  week_cycle\n",
              "0 2011-10-21 23:54:10        -73.990580  ...    0.777146    0.176103\n",
              "1 2015-02-03 10:42:03        -73.988403  ...    0.453990   -0.388435\n",
              "2 2014-03-16 18:58:58        -74.015785  ...   -0.275637    0.951057\n",
              "3 2009-06-13 16:10:54        -73.977322  ...   -0.974370    0.814839\n",
              "4 2014-06-12 03:25:56        -73.989683  ...   -0.978148   -0.877026\n",
              "\n",
              "[5 rows x 17 columns]"
            ]
          },
          "metadata": {
            "tags": []
          },
          "execution_count": 12
        }
      ]
    },
    {
      "cell_type": "code",
      "metadata": {
        "id": "-8JSyinyAcaE",
        "colab_type": "code",
        "colab": {
          "base_uri": "https://localhost:8080/",
          "height": 51
        },
        "outputId": "1f6e5a2d-ac24-4500-aa57-40df238fb1cd"
      },
      "source": [
        "# 將結果使用線性迴歸 / 梯度提升樹分別看結果\n",
        "df_temp = df.drop(['pickup_datetime'] , axis=1)\n",
        "train_X = scaler.fit_transform(df_temp)\n",
        "print(f'Linear Reg Score : {cross_val_score(Linear, train_X, train_Y, cv=5).mean()}')\n",
        "print(f'Gradient Boosting Reg Score : {cross_val_score(GDBT, train_X, train_Y, cv=5).mean()}')"
      ],
      "execution_count": 13,
      "outputs": [
        {
          "output_type": "stream",
          "text": [
            "Linear Reg Score : 0.02579821250261629\n",
            "Gradient Boosting Reg Score : 0.7166259281641042\n"
          ],
          "name": "stdout"
        }
      ]
    },
    {
      "cell_type": "code",
      "metadata": {
        "id": "93aZYxIVAcaO",
        "colab_type": "code",
        "colab": {}
      },
      "source": [
        ""
      ],
      "execution_count": 0,
      "outputs": []
    }
  ]
}