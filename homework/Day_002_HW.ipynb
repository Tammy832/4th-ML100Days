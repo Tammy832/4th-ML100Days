{
 "cells": [
  {
   "cell_type": "markdown",
   "metadata": {},
   "source": [
    "## [作業目標]\n",
    "了解機器學習適合應用的領域與範疇。"
   ]
  },
  {
   "cell_type": "markdown",
   "metadata": {},
   "source": [
    "## [作業重點]\n",
    "透過瞭解機器學習的運作方式，找出非常適用機器學習應用的領域及其原因"
   ]
  },
  {
   "cell_type": "markdown",
   "metadata": {},
   "source": [
    "## 作業\n",
    "請找出一個你認為機器學習可以發光發熱的領域並闡述原因? "
   ]
  },
  {
   "cell_type": "code",
   "execution_count": null,
   "metadata": {},
   "outputs": [],
   "source": [
    "養殖漁業。\n",
    "隨著海上漁業資源漸漸有限，許多漁產的來源漸漸轉移到養殖業上。\n",
    "然而該領域出現老化，想投入卻有限制：\n",
    "1. 大多養殖是靠經驗\n",
    "2. 需投資大量時間去做\n",
    "導致，進入這一行困難重重。如果機器學習在這方面可以做到如:\n",
    "1. 辨識魚類以進行分類\n",
    "2. 投餵飼料自動化\n",
    "3. 分析養殖用水狀況\n",
    "4. 了解魚類狀態\n",
    "5. 偵測儀器設備等等\n",
    "以上一來是可以減少人力，可以更有效率去做其他事情；二來增加年輕人投入這一個領域"
   ]
  }
 ],
 "metadata": {
  "kernelspec": {
   "display_name": "Python 3",
   "language": "python",
   "name": "python3"
  },
  "language_info": {
   "codemirror_mode": {
    "name": "ipython",
    "version": 3
   },
   "file_extension": ".py",
   "mimetype": "text/x-python",
   "name": "python",
   "nbconvert_exporter": "python",
   "pygments_lexer": "ipython3",
   "version": "3.7.4"
  }
 },
 "nbformat": 4,
 "nbformat_minor": 2
}
