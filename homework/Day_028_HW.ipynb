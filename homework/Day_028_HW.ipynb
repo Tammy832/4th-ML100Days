{
  "nbformat": 4,
  "nbformat_minor": 0,
  "metadata": {
    "kernelspec": {
      "display_name": "Python 3",
      "language": "python",
      "name": "python3"
    },
    "language_info": {
      "codemirror_mode": {
        "name": "ipython",
        "version": 3
      },
      "file_extension": ".py",
      "mimetype": "text/x-python",
      "name": "python",
      "nbconvert_exporter": "python",
      "pygments_lexer": "ipython3",
      "version": "3.6.1"
    },
    "colab": {
      "name": "Day_028_HW.ipynb",
      "provenance": []
    }
  },
  "cells": [
    {
      "cell_type": "markdown",
      "metadata": {
        "collapsed": true,
        "id": "HXSeCjzdGsz3",
        "colab_type": "text"
      },
      "source": [
        "# 範例 : 計程車費率預測\n",
        "https://www.kaggle.com/c/new-york-city-taxi-fare-prediction"
      ]
    },
    {
      "cell_type": "markdown",
      "metadata": {
        "id": "Xsw4UkMeGs0B",
        "colab_type": "text"
      },
      "source": [
        "# [作業目標]\n",
        "- 使用並觀察特徵組合, 在計程車費率預測競賽的影響"
      ]
    },
    {
      "cell_type": "markdown",
      "metadata": {
        "id": "ljjTVbVcGs0F",
        "colab_type": "text"
      },
      "source": [
        "# [作業重點]\n",
        "- 仿造範例並參考今日課程內容, 使用經緯度一圈的長度比的概念造出新特徵, 觀察有什麼影響 (In[6], Out[6])\n",
        "- 只使用上面所造的這個新特徵, 觀察有什麼影響 (In[7], Out[7])"
      ]
    },
    {
      "cell_type": "code",
      "metadata": {
        "id": "iYLEyvpdHTQc",
        "colab_type": "code",
        "colab": {
          "base_uri": "https://localhost:8080/",
          "height": 139
        },
        "outputId": "79f2a46f-680c-4869-ced0-3a81dfac3008"
      },
      "source": [
        "from google.colab import drive\n",
        "drive.mount('/content/gdrive')\n",
        "%cd 'gdrive/My Drive'"
      ],
      "execution_count": 1,
      "outputs": [
        {
          "output_type": "stream",
          "text": [
            "Go to this URL in a browser: https://accounts.google.com/o/oauth2/auth?client_id=947318989803-6bn6qk8qdgf4n4g3pfee6491hc0brc4i.apps.googleusercontent.com&redirect_uri=urn%3aietf%3awg%3aoauth%3a2.0%3aoob&response_type=code&scope=email%20https%3a%2f%2fwww.googleapis.com%2fauth%2fdocs.test%20https%3a%2f%2fwww.googleapis.com%2fauth%2fdrive%20https%3a%2f%2fwww.googleapis.com%2fauth%2fdrive.photos.readonly%20https%3a%2f%2fwww.googleapis.com%2fauth%2fpeopleapi.readonly\n",
            "\n",
            "Enter your authorization code:\n",
            "··········\n",
            "Mounted at /content/gdrive\n",
            "/content/gdrive/My Drive\n"
          ],
          "name": "stdout"
        }
      ]
    },
    {
      "cell_type": "code",
      "metadata": {
        "id": "l8fB4QnmGs0N",
        "colab_type": "code",
        "colab": {
          "base_uri": "https://localhost:8080/",
          "height": 204
        },
        "outputId": "96b1e308-4940-418d-f28d-8c8b18e6446b"
      },
      "source": [
        "# 做完特徵工程前的所有準備\n",
        "import pandas as pd\n",
        "import numpy as np\n",
        "import datetime\n",
        "from sklearn.preprocessing import MinMaxScaler\n",
        "from sklearn.model_selection import cross_val_score\n",
        "from sklearn.linear_model import LinearRegression\n",
        "from sklearn.ensemble import GradientBoostingRegressor\n",
        "\n",
        "# data_path = 'data/'\n",
        "df = pd.read_csv('taxi_data1.csv')\n",
        "\n",
        "train_Y = df['fare_amount']\n",
        "df = df.drop(['fare_amount'] , axis=1)\n",
        "df.head()"
      ],
      "execution_count": 2,
      "outputs": [
        {
          "output_type": "execute_result",
          "data": {
            "text/html": [
              "<div>\n",
              "<style scoped>\n",
              "    .dataframe tbody tr th:only-of-type {\n",
              "        vertical-align: middle;\n",
              "    }\n",
              "\n",
              "    .dataframe tbody tr th {\n",
              "        vertical-align: top;\n",
              "    }\n",
              "\n",
              "    .dataframe thead th {\n",
              "        text-align: right;\n",
              "    }\n",
              "</style>\n",
              "<table border=\"1\" class=\"dataframe\">\n",
              "  <thead>\n",
              "    <tr style=\"text-align: right;\">\n",
              "      <th></th>\n",
              "      <th>pickup_datetime</th>\n",
              "      <th>pickup_longitude</th>\n",
              "      <th>pickup_latitude</th>\n",
              "      <th>dropoff_longitude</th>\n",
              "      <th>dropoff_latitude</th>\n",
              "      <th>passenger_count</th>\n",
              "    </tr>\n",
              "  </thead>\n",
              "  <tbody>\n",
              "    <tr>\n",
              "      <th>0</th>\n",
              "      <td>2011-10-21 23:54:10 UTC</td>\n",
              "      <td>-73.990580</td>\n",
              "      <td>40.761071</td>\n",
              "      <td>-73.981128</td>\n",
              "      <td>40.758634</td>\n",
              "      <td>2</td>\n",
              "    </tr>\n",
              "    <tr>\n",
              "      <th>1</th>\n",
              "      <td>2015-02-03 10:42:03 UTC</td>\n",
              "      <td>-73.988403</td>\n",
              "      <td>40.723431</td>\n",
              "      <td>-73.989647</td>\n",
              "      <td>40.741695</td>\n",
              "      <td>1</td>\n",
              "    </tr>\n",
              "    <tr>\n",
              "      <th>2</th>\n",
              "      <td>2014-03-16 18:58:58 UTC</td>\n",
              "      <td>-74.015785</td>\n",
              "      <td>40.715110</td>\n",
              "      <td>-74.012029</td>\n",
              "      <td>40.707888</td>\n",
              "      <td>2</td>\n",
              "    </tr>\n",
              "    <tr>\n",
              "      <th>3</th>\n",
              "      <td>2009-06-13 16:10:54 UTC</td>\n",
              "      <td>-73.977322</td>\n",
              "      <td>40.787275</td>\n",
              "      <td>-73.958030</td>\n",
              "      <td>40.778838</td>\n",
              "      <td>3</td>\n",
              "    </tr>\n",
              "    <tr>\n",
              "      <th>4</th>\n",
              "      <td>2014-06-12 03:25:56 UTC</td>\n",
              "      <td>-73.989683</td>\n",
              "      <td>40.729717</td>\n",
              "      <td>-73.982490</td>\n",
              "      <td>40.761887</td>\n",
              "      <td>3</td>\n",
              "    </tr>\n",
              "  </tbody>\n",
              "</table>\n",
              "</div>"
            ],
            "text/plain": [
              "           pickup_datetime  pickup_longitude  ...  dropoff_latitude  passenger_count\n",
              "0  2011-10-21 23:54:10 UTC        -73.990580  ...         40.758634                2\n",
              "1  2015-02-03 10:42:03 UTC        -73.988403  ...         40.741695                1\n",
              "2  2014-03-16 18:58:58 UTC        -74.015785  ...         40.707888                2\n",
              "3  2009-06-13 16:10:54 UTC        -73.977322  ...         40.778838                3\n",
              "4  2014-06-12 03:25:56 UTC        -73.989683  ...         40.761887                3\n",
              "\n",
              "[5 rows x 6 columns]"
            ]
          },
          "metadata": {
            "tags": []
          },
          "execution_count": 2
        }
      ]
    },
    {
      "cell_type": "code",
      "metadata": {
        "id": "OcP43HfxGs0i",
        "colab_type": "code",
        "colab": {
          "base_uri": "https://localhost:8080/",
          "height": 309
        },
        "outputId": "a0720517-4b81-4704-a3b2-9a241aee75ae"
      },
      "source": [
        "# 時間特徵分解方式:使用datetime\n",
        "df['pickup_datetime'] = df['pickup_datetime'].apply(lambda x: datetime.datetime.strptime(x, '%Y-%m-%d %H:%M:%S UTC'))\n",
        "df['pickup_year'] = df['pickup_datetime'].apply(lambda x: datetime.datetime.strftime(x, '%Y')).astype('int64')\n",
        "df['pickup_month'] = df['pickup_datetime'].apply(lambda x: datetime.datetime.strftime(x, '%m')).astype('int64')\n",
        "df['pickup_day'] = df['pickup_datetime'].apply(lambda x: datetime.datetime.strftime(x, '%d')).astype('int64')\n",
        "df['pickup_hour'] = df['pickup_datetime'].apply(lambda x: datetime.datetime.strftime(x, '%H')).astype('int64')\n",
        "df['pickup_minute'] = df['pickup_datetime'].apply(lambda x: datetime.datetime.strftime(x, '%M')).astype('int64')\n",
        "df['pickup_second'] = df['pickup_datetime'].apply(lambda x: datetime.datetime.strftime(x, '%S')).astype('int64')\n",
        "df.head()"
      ],
      "execution_count": 3,
      "outputs": [
        {
          "output_type": "execute_result",
          "data": {
            "text/html": [
              "<div>\n",
              "<style scoped>\n",
              "    .dataframe tbody tr th:only-of-type {\n",
              "        vertical-align: middle;\n",
              "    }\n",
              "\n",
              "    .dataframe tbody tr th {\n",
              "        vertical-align: top;\n",
              "    }\n",
              "\n",
              "    .dataframe thead th {\n",
              "        text-align: right;\n",
              "    }\n",
              "</style>\n",
              "<table border=\"1\" class=\"dataframe\">\n",
              "  <thead>\n",
              "    <tr style=\"text-align: right;\">\n",
              "      <th></th>\n",
              "      <th>pickup_datetime</th>\n",
              "      <th>pickup_longitude</th>\n",
              "      <th>pickup_latitude</th>\n",
              "      <th>dropoff_longitude</th>\n",
              "      <th>dropoff_latitude</th>\n",
              "      <th>passenger_count</th>\n",
              "      <th>pickup_year</th>\n",
              "      <th>pickup_month</th>\n",
              "      <th>pickup_day</th>\n",
              "      <th>pickup_hour</th>\n",
              "      <th>pickup_minute</th>\n",
              "      <th>pickup_second</th>\n",
              "    </tr>\n",
              "  </thead>\n",
              "  <tbody>\n",
              "    <tr>\n",
              "      <th>0</th>\n",
              "      <td>2011-10-21 23:54:10</td>\n",
              "      <td>-73.990580</td>\n",
              "      <td>40.761071</td>\n",
              "      <td>-73.981128</td>\n",
              "      <td>40.758634</td>\n",
              "      <td>2</td>\n",
              "      <td>2011</td>\n",
              "      <td>10</td>\n",
              "      <td>21</td>\n",
              "      <td>23</td>\n",
              "      <td>54</td>\n",
              "      <td>10</td>\n",
              "    </tr>\n",
              "    <tr>\n",
              "      <th>1</th>\n",
              "      <td>2015-02-03 10:42:03</td>\n",
              "      <td>-73.988403</td>\n",
              "      <td>40.723431</td>\n",
              "      <td>-73.989647</td>\n",
              "      <td>40.741695</td>\n",
              "      <td>1</td>\n",
              "      <td>2015</td>\n",
              "      <td>2</td>\n",
              "      <td>3</td>\n",
              "      <td>10</td>\n",
              "      <td>42</td>\n",
              "      <td>3</td>\n",
              "    </tr>\n",
              "    <tr>\n",
              "      <th>2</th>\n",
              "      <td>2014-03-16 18:58:58</td>\n",
              "      <td>-74.015785</td>\n",
              "      <td>40.715110</td>\n",
              "      <td>-74.012029</td>\n",
              "      <td>40.707888</td>\n",
              "      <td>2</td>\n",
              "      <td>2014</td>\n",
              "      <td>3</td>\n",
              "      <td>16</td>\n",
              "      <td>18</td>\n",
              "      <td>58</td>\n",
              "      <td>58</td>\n",
              "    </tr>\n",
              "    <tr>\n",
              "      <th>3</th>\n",
              "      <td>2009-06-13 16:10:54</td>\n",
              "      <td>-73.977322</td>\n",
              "      <td>40.787275</td>\n",
              "      <td>-73.958030</td>\n",
              "      <td>40.778838</td>\n",
              "      <td>3</td>\n",
              "      <td>2009</td>\n",
              "      <td>6</td>\n",
              "      <td>13</td>\n",
              "      <td>16</td>\n",
              "      <td>10</td>\n",
              "      <td>54</td>\n",
              "    </tr>\n",
              "    <tr>\n",
              "      <th>4</th>\n",
              "      <td>2014-06-12 03:25:56</td>\n",
              "      <td>-73.989683</td>\n",
              "      <td>40.729717</td>\n",
              "      <td>-73.982490</td>\n",
              "      <td>40.761887</td>\n",
              "      <td>3</td>\n",
              "      <td>2014</td>\n",
              "      <td>6</td>\n",
              "      <td>12</td>\n",
              "      <td>3</td>\n",
              "      <td>25</td>\n",
              "      <td>56</td>\n",
              "    </tr>\n",
              "  </tbody>\n",
              "</table>\n",
              "</div>"
            ],
            "text/plain": [
              "      pickup_datetime  pickup_longitude  ...  pickup_minute  pickup_second\n",
              "0 2011-10-21 23:54:10        -73.990580  ...             54             10\n",
              "1 2015-02-03 10:42:03        -73.988403  ...             42              3\n",
              "2 2014-03-16 18:58:58        -74.015785  ...             58             58\n",
              "3 2009-06-13 16:10:54        -73.977322  ...             10             54\n",
              "4 2014-06-12 03:25:56        -73.989683  ...             25             56\n",
              "\n",
              "[5 rows x 12 columns]"
            ]
          },
          "metadata": {
            "tags": []
          },
          "execution_count": 3
        }
      ]
    },
    {
      "cell_type": "code",
      "metadata": {
        "id": "9Fc0PejhGs00",
        "colab_type": "code",
        "colab": {
          "base_uri": "https://localhost:8080/",
          "height": 51
        },
        "outputId": "f5d13d39-7dea-4550-a1eb-72f6f7f73e0f"
      },
      "source": [
        "# 將結果使用線性迴歸 / 梯度提升樹分別看結果\n",
        "df = df.drop(['pickup_datetime'] , axis=1)\n",
        "scaler = MinMaxScaler()\n",
        "train_X = scaler.fit_transform(df)\n",
        "Linear = LinearRegression()\n",
        "print(f'Linear Reg Score : {cross_val_score(Linear, train_X, train_Y, cv=5).mean()}')\n",
        "GDBT = GradientBoostingRegressor()\n",
        "print(f'Gradient Boosting Reg Score : {cross_val_score(GDBT, train_X, train_Y, cv=5).mean()}')"
      ],
      "execution_count": 4,
      "outputs": [
        {
          "output_type": "stream",
          "text": [
            "Linear Reg Score : 0.026876871475639042\n",
            "Gradient Boosting Reg Score : 0.7121446133273648\n"
          ],
          "name": "stdout"
        }
      ]
    },
    {
      "cell_type": "code",
      "metadata": {
        "id": "BCFnmtFvGs0_",
        "colab_type": "code",
        "colab": {
          "base_uri": "https://localhost:8080/",
          "height": 204
        },
        "outputId": "c67be4bc-cfcc-445a-e11e-6446e6779186"
      },
      "source": [
        "# 增加緯度差, 經度差, 座標距離等三個特徵\n",
        "df['longitude_diff'] = df['dropoff_longitude'] - df['pickup_longitude']\n",
        "df['latitude_diff'] = df['dropoff_latitude'] - df['pickup_latitude']\n",
        "df['distance_2D'] = (df['longitude_diff']**2 + df['latitude_diff']**2)**0.5\n",
        "df[['distance_2D', 'longitude_diff', 'latitude_diff', 'pickup_longitude', 'pickup_latitude', 'dropoff_longitude', 'dropoff_latitude']].head()"
      ],
      "execution_count": 5,
      "outputs": [
        {
          "output_type": "execute_result",
          "data": {
            "text/html": [
              "<div>\n",
              "<style scoped>\n",
              "    .dataframe tbody tr th:only-of-type {\n",
              "        vertical-align: middle;\n",
              "    }\n",
              "\n",
              "    .dataframe tbody tr th {\n",
              "        vertical-align: top;\n",
              "    }\n",
              "\n",
              "    .dataframe thead th {\n",
              "        text-align: right;\n",
              "    }\n",
              "</style>\n",
              "<table border=\"1\" class=\"dataframe\">\n",
              "  <thead>\n",
              "    <tr style=\"text-align: right;\">\n",
              "      <th></th>\n",
              "      <th>distance_2D</th>\n",
              "      <th>longitude_diff</th>\n",
              "      <th>latitude_diff</th>\n",
              "      <th>pickup_longitude</th>\n",
              "      <th>pickup_latitude</th>\n",
              "      <th>dropoff_longitude</th>\n",
              "      <th>dropoff_latitude</th>\n",
              "    </tr>\n",
              "  </thead>\n",
              "  <tbody>\n",
              "    <tr>\n",
              "      <th>0</th>\n",
              "      <td>0.009761</td>\n",
              "      <td>0.009452</td>\n",
              "      <td>-0.002437</td>\n",
              "      <td>-73.990580</td>\n",
              "      <td>40.761071</td>\n",
              "      <td>-73.981128</td>\n",
              "      <td>40.758634</td>\n",
              "    </tr>\n",
              "    <tr>\n",
              "      <th>1</th>\n",
              "      <td>0.018307</td>\n",
              "      <td>-0.001244</td>\n",
              "      <td>0.018265</td>\n",
              "      <td>-73.988403</td>\n",
              "      <td>40.723431</td>\n",
              "      <td>-73.989647</td>\n",
              "      <td>40.741695</td>\n",
              "    </tr>\n",
              "    <tr>\n",
              "      <th>2</th>\n",
              "      <td>0.008140</td>\n",
              "      <td>0.003756</td>\n",
              "      <td>-0.007222</td>\n",
              "      <td>-74.015785</td>\n",
              "      <td>40.715110</td>\n",
              "      <td>-74.012029</td>\n",
              "      <td>40.707888</td>\n",
              "    </tr>\n",
              "    <tr>\n",
              "      <th>3</th>\n",
              "      <td>0.021056</td>\n",
              "      <td>0.019292</td>\n",
              "      <td>-0.008437</td>\n",
              "      <td>-73.977322</td>\n",
              "      <td>40.787275</td>\n",
              "      <td>-73.958030</td>\n",
              "      <td>40.778838</td>\n",
              "    </tr>\n",
              "    <tr>\n",
              "      <th>4</th>\n",
              "      <td>0.032964</td>\n",
              "      <td>0.007193</td>\n",
              "      <td>0.032170</td>\n",
              "      <td>-73.989683</td>\n",
              "      <td>40.729717</td>\n",
              "      <td>-73.982490</td>\n",
              "      <td>40.761887</td>\n",
              "    </tr>\n",
              "  </tbody>\n",
              "</table>\n",
              "</div>"
            ],
            "text/plain": [
              "   distance_2D  longitude_diff  ...  dropoff_longitude  dropoff_latitude\n",
              "0     0.009761        0.009452  ...         -73.981128         40.758634\n",
              "1     0.018307       -0.001244  ...         -73.989647         40.741695\n",
              "2     0.008140        0.003756  ...         -74.012029         40.707888\n",
              "3     0.021056        0.019292  ...         -73.958030         40.778838\n",
              "4     0.032964        0.007193  ...         -73.982490         40.761887\n",
              "\n",
              "[5 rows x 7 columns]"
            ]
          },
          "metadata": {
            "tags": []
          },
          "execution_count": 5
        }
      ]
    },
    {
      "cell_type": "code",
      "metadata": {
        "id": "lKSK612nGs1J",
        "colab_type": "code",
        "colab": {
          "base_uri": "https://localhost:8080/",
          "height": 51
        },
        "outputId": "49bac1d1-8241-4ee2-88f1-c2cbe8d22e98"
      },
      "source": [
        "# 結果 : 準確度上升\n",
        "train_X = scaler.fit_transform(df)\n",
        "print(f'Linear Reg Score : {cross_val_score(Linear, train_X, train_Y, cv=5).mean()}')\n",
        "print(f'Gradient Boosting Reg Score : {cross_val_score(GDBT, train_X, train_Y, cv=5).mean()}')"
      ],
      "execution_count": 6,
      "outputs": [
        {
          "output_type": "stream",
          "text": [
            "Linear Reg Score : 0.027388172930510456\n",
            "Gradient Boosting Reg Score : 0.8049249383451287\n"
          ],
          "name": "stdout"
        }
      ]
    },
    {
      "cell_type": "markdown",
      "metadata": {
        "collapsed": true,
        "id": "WzsfNximGs1W",
        "colab_type": "text"
      },
      "source": [
        "# 作業1\n",
        "* 參考今日教材，試著使用經緯度一圈的長度比這一概念，組合出一個新特徵，再觀察原特徵加上新特徵是否提升了正確率?"
      ]
    },
    {
      "cell_type": "code",
      "metadata": {
        "id": "VGCQK-n5Gs1a",
        "colab_type": "code",
        "colab": {
          "base_uri": "https://localhost:8080/",
          "height": 51
        },
        "outputId": "e088fe44-ad69-4afa-88e5-352b2b58a80b"
      },
      "source": [
        "import math\n",
        "\"\"\"\n",
        "Your Code Here, set new character at df['distance_real']\n",
        "\"\"\"\n",
        "df['real_latitude_diff'] = df['latitude_diff']*0.75756\n",
        "df['real_distance'] = (df['longitude_diff']**2 + df['real_latitude_diff']**2)**0.5\n",
        "\n",
        "# 觀察結果 \n",
        "train_X = scaler.fit_transform(df)\n",
        "print(f'Linear Reg Score : {cross_val_score(Linear, train_X, train_Y, cv=5).mean()}')\n",
        "print(f'Gradient Boosting Reg Score : {cross_val_score(GDBT, train_X, train_Y, cv=5).mean()}')"
      ],
      "execution_count": 7,
      "outputs": [
        {
          "output_type": "stream",
          "text": [
            "Linear Reg Score : 0.030089348811464033\n",
            "Gradient Boosting Reg Score : 0.8035559974029682\n"
          ],
          "name": "stdout"
        }
      ]
    },
    {
      "cell_type": "markdown",
      "metadata": {
        "id": "_EK42SN0Gs1n",
        "colab_type": "text"
      },
      "source": [
        "# 作業2\n",
        "* 試著只使用新特徵估計目標值(忽略原特徵)，效果跟作業1的結果比較起來效果如何?"
      ]
    },
    {
      "cell_type": "code",
      "metadata": {
        "id": "Q7zQu83-Gs1s",
        "colab_type": "code",
        "colab": {
          "base_uri": "https://localhost:8080/",
          "height": 51
        },
        "outputId": "9585dc18-d5c5-4465-ebc9-f82ded800910"
      },
      "source": [
        "train_X = scaler.fit_transform(df[['real_distance']])\n",
        "print(f'Linear Reg Score : {cross_val_score(Linear, train_X, train_Y, cv=5).mean()}')\n",
        "print(f'Gradient Boosting Reg Score : {cross_val_score(GDBT, train_X, train_Y, cv=5).mean()}')"
      ],
      "execution_count": 9,
      "outputs": [
        {
          "output_type": "stream",
          "text": [
            "Linear Reg Score : 0.001401340887114521\n",
            "Gradient Boosting Reg Score : 0.7360082494416365\n"
          ],
          "name": "stdout"
        }
      ]
    },
    {
      "cell_type": "code",
      "metadata": {
        "id": "gMDxMTLYGs14",
        "colab_type": "code",
        "colab": {}
      },
      "source": [
        ""
      ],
      "execution_count": 0,
      "outputs": []
    }
  ]
}